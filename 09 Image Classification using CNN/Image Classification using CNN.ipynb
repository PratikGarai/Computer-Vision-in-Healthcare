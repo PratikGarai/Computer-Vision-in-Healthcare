{
  "cells": [
    {
      "cell_type": "markdown",
      "metadata": {
        "id": "JxV-brW17-GQ"
      },
      "source": [
        "# Image Classification using CNN\n",
        "\n",
        "<pre>\n",
        "Consider a medical image dataset. \n",
        "Use CNN to perform classification over the dataset selected. \n",
        "Evaluate the performance of classifier in terms of accuracy of classification.\n",
        "</pre>"
      ]
    },
    {
      "cell_type": "markdown",
      "metadata": {
        "id": "zTHy_JTp6ktH"
      },
      "source": [
        "# Kaggle Dataset"
      ]
    },
    {
      "cell_type": "markdown",
      "metadata": {
        "id": "uz7T51BN6p09"
      },
      "source": [
        "## Drive Connection"
      ]
    },
    {
      "cell_type": "code",
      "execution_count": null,
      "metadata": {
        "id": "0esWIg8n6iBO",
        "colab": {
          "base_uri": "https://localhost:8080/"
        },
        "outputId": "496b8415-f4bc-4469-a281-c906a74777b4"
      },
      "outputs": [
        {
          "output_type": "stream",
          "name": "stdout",
          "text": [
            "Mounted at /drive\n"
          ]
        }
      ],
      "source": [
        "from google.colab import drive\n",
        "drive.mount('/drive')"
      ]
    },
    {
      "cell_type": "markdown",
      "metadata": {
        "id": "pRmvGzau7CYM"
      },
      "source": [
        "## Get key"
      ]
    },
    {
      "cell_type": "code",
      "execution_count": null,
      "metadata": {
        "id": "8kvETcj66uOF"
      },
      "outputs": [],
      "source": [
        "!mkdir /root/.kaggle/\n",
        "!cp /drive/MyDrive/kaggle.json /root/.kaggle/"
      ]
    },
    {
      "cell_type": "code",
      "execution_count": null,
      "metadata": {
        "id": "WaT3Czfh-th2",
        "colab": {
          "base_uri": "https://localhost:8080/"
        },
        "outputId": "57886ed6-2d59-4170-e627-807a3a495054"
      },
      "outputs": [
        {
          "output_type": "stream",
          "name": "stdout",
          "text": [
            "Collecting kaggle\n",
            "  Downloading kaggle-1.5.12.tar.gz (58 kB)\n",
            "\u001b[?25l\r\u001b[K     |█████▋                          | 10 kB 28.5 MB/s eta 0:00:01\r\u001b[K     |███████████▏                    | 20 kB 34.2 MB/s eta 0:00:01\r\u001b[K     |████████████████▊               | 30 kB 38.2 MB/s eta 0:00:01\r\u001b[K     |██████████████████████▎         | 40 kB 42.0 MB/s eta 0:00:01\r\u001b[K     |███████████████████████████▉    | 51 kB 33.4 MB/s eta 0:00:01\r\u001b[K     |████████████████████████████████| 58 kB 7.5 MB/s \n",
            "\u001b[?25hBuilding wheels for collected packages: kaggle\n",
            "  Building wheel for kaggle (setup.py) ... \u001b[?25l\u001b[?25hdone\n",
            "  Created wheel for kaggle: filename=kaggle-1.5.12-py3-none-any.whl size=73051 sha256=32dd3472f76bda4508e63795271486a437c995f8c1a882a0dc6f790e0e438d5d\n",
            "  Stored in directory: /root/.cache/pip/wheels/62/d6/58/5853130f941e75b2177d281eb7e44b4a98ed46dd155f556dc5\n",
            "Successfully built kaggle\n",
            "Installing collected packages: kaggle\n",
            "  Attempting uninstall: kaggle\n",
            "    Found existing installation: kaggle 1.5.12\n",
            "    Uninstalling kaggle-1.5.12:\n",
            "      Successfully uninstalled kaggle-1.5.12\n",
            "Successfully installed kaggle-1.5.12\n"
          ]
        }
      ],
      "source": [
        "!pip install --upgrade --force-reinstall --no-deps kaggle"
      ]
    },
    {
      "cell_type": "markdown",
      "metadata": {
        "id": "r7KxXF0g7GzO"
      },
      "source": [
        "## Download medical image dataset"
      ]
    },
    {
      "cell_type": "code",
      "execution_count": null,
      "metadata": {
        "colab": {
          "base_uri": "https://localhost:8080/"
        },
        "id": "2z6TPPYv7IX9",
        "outputId": "79bbb509-e018-4878-e93d-8c0fec8e8d15"
      },
      "outputs": [
        {
          "output_type": "stream",
          "name": "stdout",
          "text": [
            "Downloading aptos2019-blindness-detection.zip to /content\n",
            "100% 9.51G/9.51G [04:03<00:00, 61.8MB/s]\n",
            "100% 9.51G/9.51G [04:03<00:00, 41.9MB/s]\n"
          ]
        }
      ],
      "source": [
        "!kaggle competitions download -c aptos2019-blindness-detection"
      ]
    },
    {
      "cell_type": "code",
      "execution_count": null,
      "metadata": {
        "id": "skeWBvIE94T9"
      },
      "outputs": [],
      "source": [
        "!unzip -qq aptos2019-blindness-detection.zip"
      ]
    },
    {
      "cell_type": "markdown",
      "source": [
        "# Imports"
      ],
      "metadata": {
        "id": "7UrkCIdWsK32"
      }
    },
    {
      "cell_type": "code",
      "source": [
        "import cv2\n",
        "import os\n",
        "from google.colab.patches import cv2_imshow\n",
        "import numpy as np\n",
        "import pandas as pd\n",
        "import matplotlib.pyplot as plt\n",
        "\n",
        "import keras\n",
        "from keras.models import Sequential\n",
        "from keras.layers import Conv2D\n",
        "from keras.layers import MaxPooling2D\n",
        "from keras.layers import Flatten\n",
        "from keras.layers import Dense\n",
        "from keras.layers import BatchNormalization\n",
        "from keras.preprocessing.image import ImageDataGenerator, load_img\n",
        "\n",
        "from sklearn.metrics import classification_report, confusion_matrix\n",
        "from sklearn.model_selection import train_test_split\n",
        "from sklearn.preprocessing import OneHotEncoder"
      ],
      "metadata": {
        "id": "EONdCLVIsMaM"
      },
      "execution_count": null,
      "outputs": []
    },
    {
      "cell_type": "markdown",
      "source": [
        "# Getting Dataset ready for direct usage"
      ],
      "metadata": {
        "id": "Y8kKzyRxceJU"
      }
    },
    {
      "cell_type": "code",
      "source": [
        "train = pd.read_csv(\"train.csv\")\n",
        "train.head()"
      ],
      "metadata": {
        "colab": {
          "base_uri": "https://localhost:8080/",
          "height": 206
        },
        "id": "G4iSf1N7wrRF",
        "outputId": "301a5182-4644-4e62-98ac-3dbc2bd9c185"
      },
      "execution_count": null,
      "outputs": [
        {
          "output_type": "execute_result",
          "data": {
            "text/plain": [
              "        id_code  diagnosis\n",
              "0  000c1434d8d7          2\n",
              "1  001639a390f0          4\n",
              "2  0024cdab0c1e          1\n",
              "3  002c21358ce6          0\n",
              "4  005b95c28852          0"
            ],
            "text/html": [
              "\n",
              "  <div id=\"df-cef53464-5210-420a-afe1-cc574666c7e6\">\n",
              "    <div class=\"colab-df-container\">\n",
              "      <div>\n",
              "<style scoped>\n",
              "    .dataframe tbody tr th:only-of-type {\n",
              "        vertical-align: middle;\n",
              "    }\n",
              "\n",
              "    .dataframe tbody tr th {\n",
              "        vertical-align: top;\n",
              "    }\n",
              "\n",
              "    .dataframe thead th {\n",
              "        text-align: right;\n",
              "    }\n",
              "</style>\n",
              "<table border=\"1\" class=\"dataframe\">\n",
              "  <thead>\n",
              "    <tr style=\"text-align: right;\">\n",
              "      <th></th>\n",
              "      <th>id_code</th>\n",
              "      <th>diagnosis</th>\n",
              "    </tr>\n",
              "  </thead>\n",
              "  <tbody>\n",
              "    <tr>\n",
              "      <th>0</th>\n",
              "      <td>000c1434d8d7</td>\n",
              "      <td>2</td>\n",
              "    </tr>\n",
              "    <tr>\n",
              "      <th>1</th>\n",
              "      <td>001639a390f0</td>\n",
              "      <td>4</td>\n",
              "    </tr>\n",
              "    <tr>\n",
              "      <th>2</th>\n",
              "      <td>0024cdab0c1e</td>\n",
              "      <td>1</td>\n",
              "    </tr>\n",
              "    <tr>\n",
              "      <th>3</th>\n",
              "      <td>002c21358ce6</td>\n",
              "      <td>0</td>\n",
              "    </tr>\n",
              "    <tr>\n",
              "      <th>4</th>\n",
              "      <td>005b95c28852</td>\n",
              "      <td>0</td>\n",
              "    </tr>\n",
              "  </tbody>\n",
              "</table>\n",
              "</div>\n",
              "      <button class=\"colab-df-convert\" onclick=\"convertToInteractive('df-cef53464-5210-420a-afe1-cc574666c7e6')\"\n",
              "              title=\"Convert this dataframe to an interactive table.\"\n",
              "              style=\"display:none;\">\n",
              "        \n",
              "  <svg xmlns=\"http://www.w3.org/2000/svg\" height=\"24px\"viewBox=\"0 0 24 24\"\n",
              "       width=\"24px\">\n",
              "    <path d=\"M0 0h24v24H0V0z\" fill=\"none\"/>\n",
              "    <path d=\"M18.56 5.44l.94 2.06.94-2.06 2.06-.94-2.06-.94-.94-2.06-.94 2.06-2.06.94zm-11 1L8.5 8.5l.94-2.06 2.06-.94-2.06-.94L8.5 2.5l-.94 2.06-2.06.94zm10 10l.94 2.06.94-2.06 2.06-.94-2.06-.94-.94-2.06-.94 2.06-2.06.94z\"/><path d=\"M17.41 7.96l-1.37-1.37c-.4-.4-.92-.59-1.43-.59-.52 0-1.04.2-1.43.59L10.3 9.45l-7.72 7.72c-.78.78-.78 2.05 0 2.83L4 21.41c.39.39.9.59 1.41.59.51 0 1.02-.2 1.41-.59l7.78-7.78 2.81-2.81c.8-.78.8-2.07 0-2.86zM5.41 20L4 18.59l7.72-7.72 1.47 1.35L5.41 20z\"/>\n",
              "  </svg>\n",
              "      </button>\n",
              "      \n",
              "  <style>\n",
              "    .colab-df-container {\n",
              "      display:flex;\n",
              "      flex-wrap:wrap;\n",
              "      gap: 12px;\n",
              "    }\n",
              "\n",
              "    .colab-df-convert {\n",
              "      background-color: #E8F0FE;\n",
              "      border: none;\n",
              "      border-radius: 50%;\n",
              "      cursor: pointer;\n",
              "      display: none;\n",
              "      fill: #1967D2;\n",
              "      height: 32px;\n",
              "      padding: 0 0 0 0;\n",
              "      width: 32px;\n",
              "    }\n",
              "\n",
              "    .colab-df-convert:hover {\n",
              "      background-color: #E2EBFA;\n",
              "      box-shadow: 0px 1px 2px rgba(60, 64, 67, 0.3), 0px 1px 3px 1px rgba(60, 64, 67, 0.15);\n",
              "      fill: #174EA6;\n",
              "    }\n",
              "\n",
              "    [theme=dark] .colab-df-convert {\n",
              "      background-color: #3B4455;\n",
              "      fill: #D2E3FC;\n",
              "    }\n",
              "\n",
              "    [theme=dark] .colab-df-convert:hover {\n",
              "      background-color: #434B5C;\n",
              "      box-shadow: 0px 1px 3px 1px rgba(0, 0, 0, 0.15);\n",
              "      filter: drop-shadow(0px 1px 2px rgba(0, 0, 0, 0.3));\n",
              "      fill: #FFFFFF;\n",
              "    }\n",
              "  </style>\n",
              "\n",
              "      <script>\n",
              "        const buttonEl =\n",
              "          document.querySelector('#df-cef53464-5210-420a-afe1-cc574666c7e6 button.colab-df-convert');\n",
              "        buttonEl.style.display =\n",
              "          google.colab.kernel.accessAllowed ? 'block' : 'none';\n",
              "\n",
              "        async function convertToInteractive(key) {\n",
              "          const element = document.querySelector('#df-cef53464-5210-420a-afe1-cc574666c7e6');\n",
              "          const dataTable =\n",
              "            await google.colab.kernel.invokeFunction('convertToInteractive',\n",
              "                                                     [key], {});\n",
              "          if (!dataTable) return;\n",
              "\n",
              "          const docLinkHtml = 'Like what you see? Visit the ' +\n",
              "            '<a target=\"_blank\" href=https://colab.research.google.com/notebooks/data_table.ipynb>data table notebook</a>'\n",
              "            + ' to learn more about interactive tables.';\n",
              "          element.innerHTML = '';\n",
              "          dataTable['output_type'] = 'display_data';\n",
              "          await google.colab.output.renderOutput(dataTable, element);\n",
              "          const docLink = document.createElement('div');\n",
              "          docLink.innerHTML = docLinkHtml;\n",
              "          element.appendChild(docLink);\n",
              "        }\n",
              "      </script>\n",
              "    </div>\n",
              "  </div>\n",
              "  "
            ]
          },
          "metadata": {},
          "execution_count": 7
        }
      ]
    },
    {
      "cell_type": "code",
      "source": [
        "train.info()"
      ],
      "metadata": {
        "colab": {
          "base_uri": "https://localhost:8080/"
        },
        "id": "n7Cofrwt2-xW",
        "outputId": "82a702ab-4198-4125-a807-708b3c9ff148"
      },
      "execution_count": null,
      "outputs": [
        {
          "output_type": "stream",
          "name": "stdout",
          "text": [
            "<class 'pandas.core.frame.DataFrame'>\n",
            "RangeIndex: 3662 entries, 0 to 3661\n",
            "Data columns (total 2 columns):\n",
            " #   Column     Non-Null Count  Dtype \n",
            "---  ------     --------------  ----- \n",
            " 0   id_code    3662 non-null   object\n",
            " 1   diagnosis  3662 non-null   int64 \n",
            "dtypes: int64(1), object(1)\n",
            "memory usage: 57.3+ KB\n"
          ]
        }
      ]
    },
    {
      "cell_type": "code",
      "source": [
        "test = pd.read_csv(\"test.csv\")\n",
        "test.head()"
      ],
      "metadata": {
        "colab": {
          "base_uri": "https://localhost:8080/",
          "height": 206
        },
        "id": "7D6s_m8ezBNu",
        "outputId": "761186e5-ba35-4a53-857c-fade5a64eeab"
      },
      "execution_count": null,
      "outputs": [
        {
          "output_type": "execute_result",
          "data": {
            "text/plain": [
              "        id_code\n",
              "0  0005cfc8afb6\n",
              "1  003f0afdcd15\n",
              "2  006efc72b638\n",
              "3  00836aaacf06\n",
              "4  009245722fa4"
            ],
            "text/html": [
              "\n",
              "  <div id=\"df-35342a99-b78a-47c2-a96c-b1056d18efd8\">\n",
              "    <div class=\"colab-df-container\">\n",
              "      <div>\n",
              "<style scoped>\n",
              "    .dataframe tbody tr th:only-of-type {\n",
              "        vertical-align: middle;\n",
              "    }\n",
              "\n",
              "    .dataframe tbody tr th {\n",
              "        vertical-align: top;\n",
              "    }\n",
              "\n",
              "    .dataframe thead th {\n",
              "        text-align: right;\n",
              "    }\n",
              "</style>\n",
              "<table border=\"1\" class=\"dataframe\">\n",
              "  <thead>\n",
              "    <tr style=\"text-align: right;\">\n",
              "      <th></th>\n",
              "      <th>id_code</th>\n",
              "    </tr>\n",
              "  </thead>\n",
              "  <tbody>\n",
              "    <tr>\n",
              "      <th>0</th>\n",
              "      <td>0005cfc8afb6</td>\n",
              "    </tr>\n",
              "    <tr>\n",
              "      <th>1</th>\n",
              "      <td>003f0afdcd15</td>\n",
              "    </tr>\n",
              "    <tr>\n",
              "      <th>2</th>\n",
              "      <td>006efc72b638</td>\n",
              "    </tr>\n",
              "    <tr>\n",
              "      <th>3</th>\n",
              "      <td>00836aaacf06</td>\n",
              "    </tr>\n",
              "    <tr>\n",
              "      <th>4</th>\n",
              "      <td>009245722fa4</td>\n",
              "    </tr>\n",
              "  </tbody>\n",
              "</table>\n",
              "</div>\n",
              "      <button class=\"colab-df-convert\" onclick=\"convertToInteractive('df-35342a99-b78a-47c2-a96c-b1056d18efd8')\"\n",
              "              title=\"Convert this dataframe to an interactive table.\"\n",
              "              style=\"display:none;\">\n",
              "        \n",
              "  <svg xmlns=\"http://www.w3.org/2000/svg\" height=\"24px\"viewBox=\"0 0 24 24\"\n",
              "       width=\"24px\">\n",
              "    <path d=\"M0 0h24v24H0V0z\" fill=\"none\"/>\n",
              "    <path d=\"M18.56 5.44l.94 2.06.94-2.06 2.06-.94-2.06-.94-.94-2.06-.94 2.06-2.06.94zm-11 1L8.5 8.5l.94-2.06 2.06-.94-2.06-.94L8.5 2.5l-.94 2.06-2.06.94zm10 10l.94 2.06.94-2.06 2.06-.94-2.06-.94-.94-2.06-.94 2.06-2.06.94z\"/><path d=\"M17.41 7.96l-1.37-1.37c-.4-.4-.92-.59-1.43-.59-.52 0-1.04.2-1.43.59L10.3 9.45l-7.72 7.72c-.78.78-.78 2.05 0 2.83L4 21.41c.39.39.9.59 1.41.59.51 0 1.02-.2 1.41-.59l7.78-7.78 2.81-2.81c.8-.78.8-2.07 0-2.86zM5.41 20L4 18.59l7.72-7.72 1.47 1.35L5.41 20z\"/>\n",
              "  </svg>\n",
              "      </button>\n",
              "      \n",
              "  <style>\n",
              "    .colab-df-container {\n",
              "      display:flex;\n",
              "      flex-wrap:wrap;\n",
              "      gap: 12px;\n",
              "    }\n",
              "\n",
              "    .colab-df-convert {\n",
              "      background-color: #E8F0FE;\n",
              "      border: none;\n",
              "      border-radius: 50%;\n",
              "      cursor: pointer;\n",
              "      display: none;\n",
              "      fill: #1967D2;\n",
              "      height: 32px;\n",
              "      padding: 0 0 0 0;\n",
              "      width: 32px;\n",
              "    }\n",
              "\n",
              "    .colab-df-convert:hover {\n",
              "      background-color: #E2EBFA;\n",
              "      box-shadow: 0px 1px 2px rgba(60, 64, 67, 0.3), 0px 1px 3px 1px rgba(60, 64, 67, 0.15);\n",
              "      fill: #174EA6;\n",
              "    }\n",
              "\n",
              "    [theme=dark] .colab-df-convert {\n",
              "      background-color: #3B4455;\n",
              "      fill: #D2E3FC;\n",
              "    }\n",
              "\n",
              "    [theme=dark] .colab-df-convert:hover {\n",
              "      background-color: #434B5C;\n",
              "      box-shadow: 0px 1px 3px 1px rgba(0, 0, 0, 0.15);\n",
              "      filter: drop-shadow(0px 1px 2px rgba(0, 0, 0, 0.3));\n",
              "      fill: #FFFFFF;\n",
              "    }\n",
              "  </style>\n",
              "\n",
              "      <script>\n",
              "        const buttonEl =\n",
              "          document.querySelector('#df-35342a99-b78a-47c2-a96c-b1056d18efd8 button.colab-df-convert');\n",
              "        buttonEl.style.display =\n",
              "          google.colab.kernel.accessAllowed ? 'block' : 'none';\n",
              "\n",
              "        async function convertToInteractive(key) {\n",
              "          const element = document.querySelector('#df-35342a99-b78a-47c2-a96c-b1056d18efd8');\n",
              "          const dataTable =\n",
              "            await google.colab.kernel.invokeFunction('convertToInteractive',\n",
              "                                                     [key], {});\n",
              "          if (!dataTable) return;\n",
              "\n",
              "          const docLinkHtml = 'Like what you see? Visit the ' +\n",
              "            '<a target=\"_blank\" href=https://colab.research.google.com/notebooks/data_table.ipynb>data table notebook</a>'\n",
              "            + ' to learn more about interactive tables.';\n",
              "          element.innerHTML = '';\n",
              "          dataTable['output_type'] = 'display_data';\n",
              "          await google.colab.output.renderOutput(dataTable, element);\n",
              "          const docLink = document.createElement('div');\n",
              "          docLink.innerHTML = docLinkHtml;\n",
              "          element.appendChild(docLink);\n",
              "        }\n",
              "      </script>\n",
              "    </div>\n",
              "  </div>\n",
              "  "
            ]
          },
          "metadata": {},
          "execution_count": 9
        }
      ]
    },
    {
      "cell_type": "markdown",
      "source": [
        " Test data is not labelled, so I'll split the data in train for the sake of testing"
      ],
      "metadata": {
        "id": "ECt9F6wOzD1K"
      }
    },
    {
      "cell_type": "code",
      "source": [
        "train['diagnosis'].unique()"
      ],
      "metadata": {
        "colab": {
          "base_uri": "https://localhost:8080/"
        },
        "id": "4CdiBRYCxX53",
        "outputId": "f01a6e23-9481-441d-fa93-05aeb517e106"
      },
      "execution_count": null,
      "outputs": [
        {
          "output_type": "execute_result",
          "data": {
            "text/plain": [
              "array([2, 4, 1, 0, 3])"
            ]
          },
          "metadata": {},
          "execution_count": 10
        }
      ]
    },
    {
      "cell_type": "markdown",
      "source": [
        "1. Read the file names from csv\n",
        "2. Load the image\n",
        "3. Convert to grayscale\n",
        "4. Flatten the data to fit into a dataset\n",
        "5. Train SVC on it\n"
      ],
      "metadata": {
        "id": "l25l439Uxf1A"
      }
    },
    {
      "cell_type": "code",
      "source": [
        "train_dir = \"train\"\n",
        "test_dir = \"test\""
      ],
      "metadata": {
        "id": "z2vNc1RGyj7K"
      },
      "execution_count": null,
      "outputs": []
    },
    {
      "cell_type": "code",
      "source": [
        "def load_data(dir, files, labels, allowed) :\n",
        "\n",
        "  count = 0\n",
        "  x = []\n",
        "  y = []\n",
        "  l = len(files)\n",
        "  for i in range(l):\n",
        "    if labels[i] not in allowed : \n",
        "      continue\n",
        "    pth = os.path.join(dir, str(files[i])+\".png\")\n",
        "    img = cv2.imread(pth)\n",
        "    img = cv2.resize(img, (200, 150))\n",
        "    img = cv2.cvtColor(img, cv2.COLOR_BGR2GRAY)\n",
        "    x.append(img)\n",
        "    y.append(labels[i])\n",
        "    count += 1\n",
        "\n",
        "    if count%100==0 : \n",
        "      print(f\"{count} images reading complete\")\n",
        "\n",
        "  return x, y\n",
        "  \n",
        "datax, datay = load_data(\"train_images\", train[\"id_code\"], train[\"diagnosis\"], [0, 1, 2, 3, 4])"
      ],
      "metadata": {
        "id": "II_eL-_NxehB",
        "colab": {
          "base_uri": "https://localhost:8080/"
        },
        "outputId": "9a71e6ea-dcc4-4ed8-f85a-1c16aa0a8c8a"
      },
      "execution_count": null,
      "outputs": [
        {
          "output_type": "stream",
          "name": "stdout",
          "text": [
            "100 images reading complete\n",
            "200 images reading complete\n",
            "300 images reading complete\n",
            "400 images reading complete\n",
            "500 images reading complete\n",
            "600 images reading complete\n",
            "700 images reading complete\n",
            "800 images reading complete\n",
            "900 images reading complete\n",
            "1000 images reading complete\n",
            "1100 images reading complete\n",
            "1200 images reading complete\n",
            "1300 images reading complete\n",
            "1400 images reading complete\n",
            "1500 images reading complete\n",
            "1600 images reading complete\n",
            "1700 images reading complete\n",
            "1800 images reading complete\n",
            "1900 images reading complete\n",
            "2000 images reading complete\n",
            "2100 images reading complete\n",
            "2200 images reading complete\n",
            "2300 images reading complete\n",
            "2400 images reading complete\n",
            "2500 images reading complete\n",
            "2600 images reading complete\n",
            "2700 images reading complete\n",
            "2800 images reading complete\n",
            "2900 images reading complete\n",
            "3000 images reading complete\n",
            "3100 images reading complete\n",
            "3200 images reading complete\n",
            "3300 images reading complete\n",
            "3400 images reading complete\n",
            "3500 images reading complete\n",
            "3600 images reading complete\n"
          ]
        }
      ]
    },
    {
      "cell_type": "code",
      "source": [
        "x_train, x_test, y_train, y_test = train_test_split(np.array(datax), np.array(datay), test_size=0.10)"
      ],
      "metadata": {
        "id": "rqT_P6Nz0rhr"
      },
      "execution_count": null,
      "outputs": []
    },
    {
      "cell_type": "code",
      "source": [
        "# A simple scaling\n",
        "x_train = x_train/255\n",
        "x_test = x_test/255"
      ],
      "metadata": {
        "id": "6kMfdxF7eX9q"
      },
      "execution_count": null,
      "outputs": []
    },
    {
      "cell_type": "code",
      "source": [
        "SHAPE = x_train.shape\n",
        "x_train = x_train.reshape(*SHAPE, 1)"
      ],
      "metadata": {
        "colab": {
          "base_uri": "https://localhost:8080/"
        },
        "id": "I32wLtZZuI4u",
        "outputId": "846f8e77-4e02-4bf5-c491-4b9e13f9413f"
      },
      "execution_count": null,
      "outputs": [
        {
          "output_type": "execute_result",
          "data": {
            "text/plain": [
              "(3295, 150, 200, 1)"
            ]
          },
          "metadata": {},
          "execution_count": 37
        }
      ]
    },
    {
      "cell_type": "code",
      "source": [
        "SHAPE_T = x_test.shape\n",
        "x_test = x_test.reshape(*SHAPE_T, 1)"
      ],
      "metadata": {
        "id": "Wiz3Zo8zwwXa"
      },
      "execution_count": null,
      "outputs": []
    },
    {
      "cell_type": "code",
      "source": [
        "o = OneHotEncoder()\n",
        "y_train = o.fit_transform(y_train.reshape(-1, 1)).todense()\n",
        "N_CLASSES = len(o.categories_[0])"
      ],
      "metadata": {
        "id": "RULUPTxGuzce"
      },
      "execution_count": null,
      "outputs": []
    },
    {
      "cell_type": "code",
      "source": [
        "y_test = o.transform(y_test.reshape(-1, 1)).todense()"
      ],
      "metadata": {
        "id": "8Jnh5uS_w7ft"
      },
      "execution_count": null,
      "outputs": []
    },
    {
      "cell_type": "markdown",
      "source": [
        "# Model"
      ],
      "metadata": {
        "id": "mF6yhnDxtIKP"
      }
    },
    {
      "cell_type": "code",
      "source": [
        "def get_cnn(shape, channels, classes) : \n",
        "  cnn = Sequential()\n",
        "  cnn.add(Conv2D(32, (3, 3), activation=\"relu\", input_shape=(shape[1], shape[2], channels)))\n",
        "  cnn.add(MaxPooling2D(pool_size = (2, 2)))\n",
        "  cnn.add(BatchNormalization())\n",
        "  cnn.add(Conv2D(32, (3, 3), activation=\"relu\"))\n",
        "  cnn.add(MaxPooling2D(pool_size = (2, 2)))\n",
        "  cnn.add(BatchNormalization())\n",
        "  cnn.add(Conv2D(32, (3, 3), activation=\"relu\"))\n",
        "  cnn.add(MaxPooling2D(pool_size = (2, 2)))\n",
        "  cnn.add(BatchNormalization())\n",
        "  cnn.add(Flatten())\n",
        "  cnn.add(Dense(activation = 'relu', units = 128))\n",
        "  cnn.add(Dense(activation = 'relu', units = 64))\n",
        "  cnn.add(Dense(activation = 'relu', units = 16))\n",
        "  cnn.add(Dense(activation = 'softmax', units = classes))\n",
        "  cnn.compile(optimizer = 'adam', loss = 'binary_crossentropy', metrics = ['accuracy'])\n",
        "\n",
        "  return cnn"
      ],
      "metadata": {
        "id": "uSb3rAjm3XPz"
      },
      "execution_count": null,
      "outputs": []
    },
    {
      "cell_type": "code",
      "source": [
        "classifier = get_cnn(SHAPE, 1, N_CLASSES)\n",
        "classifier.summary()"
      ],
      "metadata": {
        "colab": {
          "base_uri": "https://localhost:8080/"
        },
        "id": "Un0R5VdZtQSR",
        "outputId": "1e198369-1f37-4206-8da0-3f7bb69fdd0d"
      },
      "execution_count": null,
      "outputs": [
        {
          "output_type": "stream",
          "name": "stdout",
          "text": [
            "Model: \"sequential_12\"\n",
            "_________________________________________________________________\n",
            " Layer (type)                Output Shape              Param #   \n",
            "=================================================================\n",
            " conv2d_29 (Conv2D)          (None, 148, 198, 32)      320       \n",
            "                                                                 \n",
            " max_pooling2d_28 (MaxPoolin  (None, 74, 99, 32)       0         \n",
            " g2D)                                                            \n",
            "                                                                 \n",
            " batch_normalization_1 (Batc  (None, 74, 99, 32)       128       \n",
            " hNormalization)                                                 \n",
            "                                                                 \n",
            " conv2d_30 (Conv2D)          (None, 72, 97, 32)        9248      \n",
            "                                                                 \n",
            " max_pooling2d_29 (MaxPoolin  (None, 36, 48, 32)       0         \n",
            " g2D)                                                            \n",
            "                                                                 \n",
            " batch_normalization_2 (Batc  (None, 36, 48, 32)       128       \n",
            " hNormalization)                                                 \n",
            "                                                                 \n",
            " conv2d_31 (Conv2D)          (None, 34, 46, 32)        9248      \n",
            "                                                                 \n",
            " max_pooling2d_30 (MaxPoolin  (None, 17, 23, 32)       0         \n",
            " g2D)                                                            \n",
            "                                                                 \n",
            " batch_normalization_3 (Batc  (None, 17, 23, 32)       128       \n",
            " hNormalization)                                                 \n",
            "                                                                 \n",
            " flatten_10 (Flatten)        (None, 12512)             0         \n",
            "                                                                 \n",
            " dense_28 (Dense)            (None, 128)               1601664   \n",
            "                                                                 \n",
            " dense_29 (Dense)            (None, 64)                8256      \n",
            "                                                                 \n",
            " dense_30 (Dense)            (None, 16)                1040      \n",
            "                                                                 \n",
            " dense_31 (Dense)            (None, 5)                 85        \n",
            "                                                                 \n",
            "=================================================================\n",
            "Total params: 1,630,245\n",
            "Trainable params: 1,630,053\n",
            "Non-trainable params: 192\n",
            "_________________________________________________________________\n"
          ]
        }
      ]
    },
    {
      "cell_type": "code",
      "source": [
        "history = classifier.fit(x_train, y_train, epochs=50, validation_data=(x_test, y_test))"
      ],
      "metadata": {
        "colab": {
          "base_uri": "https://localhost:8080/"
        },
        "id": "_EIzpszhtdE5",
        "outputId": "99a7d552-98fd-4702-d8f8-233846038fd5"
      },
      "execution_count": null,
      "outputs": [
        {
          "output_type": "stream",
          "name": "stdout",
          "text": [
            "Epoch 1/50\n",
            "103/103 [==============================] - 4s 28ms/step - loss: 0.3223 - accuracy: 0.6692 - val_loss: 0.4612 - val_accuracy: 0.2698\n",
            "Epoch 2/50\n",
            "103/103 [==============================] - 3s 25ms/step - loss: 0.2673 - accuracy: 0.7135 - val_loss: 0.4525 - val_accuracy: 0.2725\n",
            "Epoch 3/50\n",
            "103/103 [==============================] - 3s 25ms/step - loss: 0.2479 - accuracy: 0.7305 - val_loss: 0.4278 - val_accuracy: 0.5014\n",
            "Epoch 4/50\n",
            "103/103 [==============================] - 3s 25ms/step - loss: 0.2336 - accuracy: 0.7475 - val_loss: 0.3931 - val_accuracy: 0.5504\n",
            "Epoch 5/50\n",
            "103/103 [==============================] - 3s 26ms/step - loss: 0.2167 - accuracy: 0.7706 - val_loss: 0.3058 - val_accuracy: 0.6839\n",
            "Epoch 6/50\n",
            "103/103 [==============================] - 3s 25ms/step - loss: 0.2007 - accuracy: 0.7873 - val_loss: 0.2879 - val_accuracy: 0.6757\n",
            "Epoch 7/50\n",
            "103/103 [==============================] - 3s 25ms/step - loss: 0.1775 - accuracy: 0.8134 - val_loss: 0.2969 - val_accuracy: 0.7248\n",
            "Epoch 8/50\n",
            "103/103 [==============================] - 3s 26ms/step - loss: 0.1488 - accuracy: 0.8473 - val_loss: 0.3376 - val_accuracy: 0.7302\n",
            "Epoch 9/50\n",
            "103/103 [==============================] - 3s 25ms/step - loss: 0.1262 - accuracy: 0.8798 - val_loss: 0.8301 - val_accuracy: 0.5232\n",
            "Epoch 10/50\n",
            "103/103 [==============================] - 3s 25ms/step - loss: 0.0890 - accuracy: 0.9217 - val_loss: 0.4686 - val_accuracy: 0.7330\n",
            "Epoch 11/50\n",
            "103/103 [==============================] - 3s 25ms/step - loss: 0.0688 - accuracy: 0.9469 - val_loss: 0.3447 - val_accuracy: 0.7330\n",
            "Epoch 12/50\n",
            "103/103 [==============================] - 3s 25ms/step - loss: 0.0430 - accuracy: 0.9709 - val_loss: 0.4207 - val_accuracy: 0.7439\n",
            "Epoch 13/50\n",
            "103/103 [==============================] - 3s 27ms/step - loss: 0.0305 - accuracy: 0.9788 - val_loss: 0.4378 - val_accuracy: 0.7357\n",
            "Epoch 14/50\n",
            "103/103 [==============================] - 3s 25ms/step - loss: 0.0279 - accuracy: 0.9827 - val_loss: 0.5259 - val_accuracy: 0.7411\n",
            "Epoch 15/50\n",
            "103/103 [==============================] - 3s 25ms/step - loss: 0.0223 - accuracy: 0.9860 - val_loss: 0.5483 - val_accuracy: 0.7411\n",
            "Epoch 16/50\n",
            "103/103 [==============================] - 3s 25ms/step - loss: 0.0218 - accuracy: 0.9836 - val_loss: 0.4839 - val_accuracy: 0.7384\n",
            "Epoch 17/50\n",
            "103/103 [==============================] - 3s 25ms/step - loss: 0.0233 - accuracy: 0.9839 - val_loss: 0.4700 - val_accuracy: 0.7275\n",
            "Epoch 18/50\n",
            "103/103 [==============================] - 3s 25ms/step - loss: 0.0257 - accuracy: 0.9848 - val_loss: 0.5065 - val_accuracy: 0.7384\n",
            "Epoch 19/50\n",
            "103/103 [==============================] - 3s 25ms/step - loss: 0.0216 - accuracy: 0.9827 - val_loss: 0.5398 - val_accuracy: 0.7275\n",
            "Epoch 20/50\n",
            "103/103 [==============================] - 3s 25ms/step - loss: 0.0176 - accuracy: 0.9851 - val_loss: 0.5684 - val_accuracy: 0.7493\n",
            "Epoch 21/50\n",
            "103/103 [==============================] - 3s 26ms/step - loss: 0.0140 - accuracy: 0.9854 - val_loss: 0.6299 - val_accuracy: 0.7248\n",
            "Epoch 22/50\n",
            "103/103 [==============================] - 3s 25ms/step - loss: 0.0127 - accuracy: 0.9854 - val_loss: 0.5224 - val_accuracy: 0.7548\n",
            "Epoch 23/50\n",
            "103/103 [==============================] - 3s 27ms/step - loss: 0.0135 - accuracy: 0.9854 - val_loss: 0.5569 - val_accuracy: 0.7411\n",
            "Epoch 24/50\n",
            "103/103 [==============================] - 3s 32ms/step - loss: 0.0122 - accuracy: 0.9851 - val_loss: 0.5489 - val_accuracy: 0.7439\n",
            "Epoch 25/50\n",
            "103/103 [==============================] - 3s 26ms/step - loss: 0.0174 - accuracy: 0.9851 - val_loss: 0.6416 - val_accuracy: 0.7520\n",
            "Epoch 26/50\n",
            "103/103 [==============================] - 3s 26ms/step - loss: 0.0253 - accuracy: 0.9760 - val_loss: 0.7625 - val_accuracy: 0.7139\n",
            "Epoch 27/50\n",
            "103/103 [==============================] - 3s 25ms/step - loss: 0.0704 - accuracy: 0.9429 - val_loss: 0.5940 - val_accuracy: 0.6894\n",
            "Epoch 28/50\n",
            "103/103 [==============================] - 3s 25ms/step - loss: 0.0335 - accuracy: 0.9724 - val_loss: 0.6306 - val_accuracy: 0.6703\n",
            "Epoch 29/50\n",
            "103/103 [==============================] - 3s 30ms/step - loss: 0.0171 - accuracy: 0.9842 - val_loss: 0.5705 - val_accuracy: 0.7302\n",
            "Epoch 30/50\n",
            "103/103 [==============================] - 3s 25ms/step - loss: 0.0131 - accuracy: 0.9845 - val_loss: 0.5800 - val_accuracy: 0.7575\n",
            "Epoch 31/50\n",
            "103/103 [==============================] - 3s 26ms/step - loss: 0.0105 - accuracy: 0.9854 - val_loss: 0.6343 - val_accuracy: 0.7439\n",
            "Epoch 32/50\n",
            "103/103 [==============================] - 3s 25ms/step - loss: 0.0106 - accuracy: 0.9860 - val_loss: 0.5607 - val_accuracy: 0.7548\n",
            "Epoch 33/50\n",
            "103/103 [==============================] - 3s 25ms/step - loss: 0.0092 - accuracy: 0.9857 - val_loss: 0.6017 - val_accuracy: 0.7575\n",
            "Epoch 34/50\n",
            "103/103 [==============================] - 3s 25ms/step - loss: 0.0096 - accuracy: 0.9851 - val_loss: 0.6281 - val_accuracy: 0.7520\n",
            "Epoch 35/50\n",
            "103/103 [==============================] - 3s 25ms/step - loss: 0.0087 - accuracy: 0.9857 - val_loss: 0.6197 - val_accuracy: 0.7575\n",
            "Epoch 36/50\n",
            "103/103 [==============================] - 3s 25ms/step - loss: 0.0090 - accuracy: 0.9845 - val_loss: 0.5958 - val_accuracy: 0.7629\n",
            "Epoch 37/50\n",
            "103/103 [==============================] - 3s 25ms/step - loss: 0.0083 - accuracy: 0.9857 - val_loss: 0.6377 - val_accuracy: 0.7548\n",
            "Epoch 38/50\n",
            "103/103 [==============================] - 3s 26ms/step - loss: 0.0087 - accuracy: 0.9851 - val_loss: 0.6150 - val_accuracy: 0.7575\n",
            "Epoch 39/50\n",
            "103/103 [==============================] - 3s 26ms/step - loss: 0.0081 - accuracy: 0.9860 - val_loss: 0.6436 - val_accuracy: 0.7602\n",
            "Epoch 40/50\n",
            "103/103 [==============================] - 3s 25ms/step - loss: 0.0087 - accuracy: 0.9857 - val_loss: 0.6076 - val_accuracy: 0.7548\n",
            "Epoch 41/50\n",
            "103/103 [==============================] - 3s 25ms/step - loss: 0.0090 - accuracy: 0.9857 - val_loss: 0.6725 - val_accuracy: 0.7575\n",
            "Epoch 42/50\n",
            "103/103 [==============================] - 3s 25ms/step - loss: 0.0082 - accuracy: 0.9857 - val_loss: 0.6280 - val_accuracy: 0.7684\n",
            "Epoch 43/50\n",
            "103/103 [==============================] - 3s 25ms/step - loss: 0.0086 - accuracy: 0.9857 - val_loss: 0.6460 - val_accuracy: 0.7466\n",
            "Epoch 44/50\n",
            "103/103 [==============================] - 3s 25ms/step - loss: 0.0079 - accuracy: 0.9857 - val_loss: 0.6663 - val_accuracy: 0.7657\n",
            "Epoch 45/50\n",
            "103/103 [==============================] - 3s 25ms/step - loss: 0.0080 - accuracy: 0.9848 - val_loss: 0.6472 - val_accuracy: 0.7493\n",
            "Epoch 46/50\n",
            "103/103 [==============================] - 3s 25ms/step - loss: 0.0074 - accuracy: 0.9860 - val_loss: 0.6232 - val_accuracy: 0.7657\n",
            "Epoch 47/50\n",
            "103/103 [==============================] - 3s 25ms/step - loss: 0.0076 - accuracy: 0.9863 - val_loss: 0.6678 - val_accuracy: 0.7602\n",
            "Epoch 48/50\n",
            "103/103 [==============================] - 3s 26ms/step - loss: 0.0078 - accuracy: 0.9857 - val_loss: 0.6379 - val_accuracy: 0.7684\n",
            "Epoch 49/50\n",
            "103/103 [==============================] - 3s 25ms/step - loss: 0.0085 - accuracy: 0.9851 - val_loss: 0.6625 - val_accuracy: 0.7439\n",
            "Epoch 50/50\n",
            "103/103 [==============================] - 3s 25ms/step - loss: 0.0081 - accuracy: 0.9866 - val_loss: 0.6748 - val_accuracy: 0.7520\n"
          ]
        }
      ]
    },
    {
      "cell_type": "markdown",
      "source": [
        "# Plot"
      ],
      "metadata": {
        "id": "pxN9MVzjyHLD"
      }
    },
    {
      "cell_type": "code",
      "source": [
        "plt.plot(history.history[\"accuracy\"], label=\"accuracy\")\n",
        "plt.plot(history.history[\"val_accuracy\"], label=\"val_accuracy\")\n",
        "plt.legend()\n",
        "plt.show()"
      ],
      "metadata": {
        "colab": {
          "base_uri": "https://localhost:8080/",
          "height": 265
        },
        "id": "v_od7GrKyYJG",
        "outputId": "d57448f0-beb3-4f45-d6a1-80809c673d18"
      },
      "execution_count": null,
      "outputs": [
        {
          "output_type": "display_data",
          "data": {
            "text/plain": [
              "<Figure size 432x288 with 1 Axes>"
            ],
            "image/png": "[encoded data removed]"
          },
          "metadata": {
            "needs_background": "light"
          }
        }
      ]
    },
    {
      "cell_type": "markdown",
      "source": [
        "# Comparison"
      ],
      "metadata": {
        "id": "pdy3BA4rwBrt"
      }
    },
    {
      "cell_type": "code",
      "source": [
        "res = classifier.predict(x_test)\n",
        "res_arr_pred = []\n",
        "for i in res :\n",
        "  res_arr_pred.append(np.argmax(i))\n",
        "\n",
        "res_arr_gt = []\n",
        "for i in y_test:\n",
        "  res_arr_gt.append(np.argmax(i))"
      ],
      "metadata": {
        "id": "e2fSyKRu0knS"
      },
      "execution_count": null,
      "outputs": []
    },
    {
      "cell_type": "code",
      "source": [
        "confusion_matrix(res_arr_gt, res_arr_pred)"
      ],
      "metadata": {
        "colab": {
          "base_uri": "https://localhost:8080/"
        },
        "id": "OtcvCMEO1IyV",
        "outputId": "27ba665b-846d-4719-86b5-0abb9ca6d4d4"
      },
      "execution_count": null,
      "outputs": [
        {
          "output_type": "execute_result",
          "data": {
            "text/plain": [
              "array([[175,   0,   4,   0,   0],\n",
              "       [  7,  14,  16,   0,   1],\n",
              "       [  8,  12,  74,   4,   1],\n",
              "       [  1,   2,   9,   6,   2],\n",
              "       [  3,   4,  14,   3,   7]])"
            ]
          },
          "metadata": {},
          "execution_count": 83
        }
      ]
    }
  ],
  "metadata": {
    "colab": {
      "collapsed_sections": [],
      "name": "CSE4038 Lab 11&12.ipynb",
      "provenance": []
    },
    "kernelspec": {
      "display_name": "Python 3",
      "name": "python3"
    },
    "language_info": {
      "name": "python"
    },
    "accelerator": "GPU"
  },
  "nbformat": 4,
  "nbformat_minor": 0
}